{
 "cells": [
  {
   "cell_type": "markdown",
   "metadata": {},
   "source": [
    "# Getting Started with `FRAME`\n",
    "\n",
    "This notebook illustrates a complete example of how to run `FRAME` on a dataset of North American gray wolves published in [Schweizer et al. 2015](https://onlinelibrary.wiley.com/doi/full/10.1111/mec.13364?casa_token=idW0quVPOU0AAAAA%3Ao_ll85b8rDbnW3GtgVeeBUB4oDepm9hQW3Y445HI84LC5itXsiH9dGO-QYGPMsuz0b_7eNkRp8Mf6tlW)."
   ]
  },
  {
   "cell_type": "markdown",
   "metadata": {
    "jp-MarkdownHeadingCollapsed": true,
    "tags": []
   },
   "source": [
    "## Import packages"
   ]
  },
  {
   "cell_type": "markdown",
   "metadata": {},
   "source": [
    "First we import the required packages and `FRAME`:"
   ]
  },
  {
   "cell_type": "code",
   "execution_count": 3,
   "metadata": {
    "tags": []
   },
   "outputs": [
    {
     "ename": "ModuleNotFoundError",
     "evalue": "No module named 'FRAME.utils'",
     "output_type": "error",
     "traceback": [
      "\u001b[0;31m---------------------------------------------------------------------------\u001b[0m",
      "\u001b[0;31mModuleNotFoundError\u001b[0m                       Traceback (most recent call last)",
      "Cell \u001b[0;32mIn[3], line 12\u001b[0m\n\u001b[1;32m      9\u001b[0m \u001b[38;5;28;01mimport\u001b[39;00m \u001b[38;5;21;01mcartopy\u001b[39;00m\u001b[38;5;21;01m.\u001b[39;00m\u001b[38;5;21;01mcrs\u001b[39;00m \u001b[38;5;28;01mas\u001b[39;00m \u001b[38;5;21;01mccrs\u001b[39;00m\n\u001b[1;32m     11\u001b[0m \u001b[38;5;66;03m# FRAME\u001b[39;00m\n\u001b[0;32m---> 12\u001b[0m \u001b[38;5;28;01mfrom\u001b[39;00m \u001b[38;5;21;01mFRAME\u001b[39;00m\u001b[38;5;21;01m.\u001b[39;00m\u001b[38;5;21;01mutils\u001b[39;00m \u001b[38;5;28;01mimport\u001b[39;00m prepare_graph_inputs\n\u001b[1;32m     13\u001b[0m \u001b[38;5;28;01mfrom\u001b[39;00m \u001b[38;5;21;01mFRAME\u001b[39;00m \u001b[38;5;28;01mimport\u001b[39;00m SpatialDiGraph, Vis\n\u001b[1;32m     14\u001b[0m \u001b[38;5;28;01mfrom\u001b[39;00m \u001b[38;5;21;01mFRAME\u001b[39;00m\u001b[38;5;21;01m.\u001b[39;00m\u001b[38;5;21;01mcross_validation\u001b[39;00m \u001b[38;5;28;01mimport\u001b[39;00m run_cv\n",
      "\u001b[0;31mModuleNotFoundError\u001b[0m: No module named 'FRAME.utils'"
     ]
    }
   ],
   "source": [
    "# base\n",
    "import numpy as np\n",
    "import pkg_resources\n",
    "from sklearn.impute import SimpleImputer\n",
    "from pandas_plink import read_plink\n",
    "\n",
    "# visualization\n",
    "import matplotlib.pyplot as plt\n",
    "import cartopy.crs as ccrs\n",
    "\n",
    "# FRAME\n",
    "from FRAME.utils import prepare_graph_inputs\n",
    "from FRAME import SpatialDiGraph, Vis\n",
    "from FRAME.cross_validation import run_cv"
   ]
  },
  {
   "cell_type": "markdown",
   "metadata": {
    "jp-MarkdownHeadingCollapsed": true,
    "tags": []
   },
   "source": [
    "## Prepare the data"
   ]
  },
  {
   "cell_type": "markdown",
   "metadata": {},
   "source": [
    "Note we have packaged this example dataset in the `FRAME` package and use the `pkg_resources` package to find the path of those files:"
   ]
  },
  {
   "cell_type": "code",
   "execution_count": 4,
   "metadata": {
    "tags": []
   },
   "outputs": [
    {
     "ename": "TypeError",
     "evalue": "expected str, bytes or os.PathLike object, not NoneType",
     "output_type": "error",
     "traceback": [
      "\u001b[0;31m---------------------------------------------------------------------------\u001b[0m",
      "\u001b[0;31mTypeError\u001b[0m                                 Traceback (most recent call last)",
      "Cell \u001b[0;32mIn[4], line 1\u001b[0m\n\u001b[0;32m----> 1\u001b[0m data_path \u001b[38;5;241m=\u001b[39m pkg_resources\u001b[38;5;241m.\u001b[39mresource_filename(\u001b[38;5;124m\"\u001b[39m\u001b[38;5;124mFRAME\u001b[39m\u001b[38;5;124m\"\u001b[39m, \u001b[38;5;124m\"\u001b[39m\u001b[38;5;124mdata/\u001b[39m\u001b[38;5;124m\"\u001b[39m)\n",
      "File \u001b[0;32m~/anaconda3/lib/python3.11/site-packages/pkg_resources/__init__.py:1213\u001b[0m, in \u001b[0;36mResourceManager.resource_filename\u001b[0;34m(self, package_or_requirement, resource_name)\u001b[0m\n\u001b[1;32m   1211\u001b[0m \u001b[38;5;28;01mdef\u001b[39;00m \u001b[38;5;21mresource_filename\u001b[39m(\u001b[38;5;28mself\u001b[39m, package_or_requirement, resource_name):\n\u001b[1;32m   1212\u001b[0m \u001b[38;5;250m    \u001b[39m\u001b[38;5;124;03m\"\"\"Return a true filesystem path for specified resource\"\"\"\u001b[39;00m\n\u001b[0;32m-> 1213\u001b[0m     \u001b[38;5;28;01mreturn\u001b[39;00m get_provider(package_or_requirement)\u001b[38;5;241m.\u001b[39mget_resource_filename(\n\u001b[1;32m   1214\u001b[0m         \u001b[38;5;28mself\u001b[39m, resource_name\n\u001b[1;32m   1215\u001b[0m     )\n",
      "File \u001b[0;32m~/anaconda3/lib/python3.11/site-packages/pkg_resources/__init__.py:407\u001b[0m, in \u001b[0;36mget_provider\u001b[0;34m(moduleOrReq)\u001b[0m\n\u001b[1;32m    405\u001b[0m     module \u001b[38;5;241m=\u001b[39m sys\u001b[38;5;241m.\u001b[39mmodules[moduleOrReq]\n\u001b[1;32m    406\u001b[0m loader \u001b[38;5;241m=\u001b[39m \u001b[38;5;28mgetattr\u001b[39m(module, \u001b[38;5;124m'\u001b[39m\u001b[38;5;124m__loader__\u001b[39m\u001b[38;5;124m'\u001b[39m, \u001b[38;5;28;01mNone\u001b[39;00m)\n\u001b[0;32m--> 407\u001b[0m \u001b[38;5;28;01mreturn\u001b[39;00m _find_adapter(_provider_factories, loader)(module)\n",
      "File \u001b[0;32m~/anaconda3/lib/python3.11/site-packages/pkg_resources/__init__.py:1491\u001b[0m, in \u001b[0;36mNullProvider.__init__\u001b[0;34m(self, module)\u001b[0m\n\u001b[1;32m   1489\u001b[0m \u001b[38;5;28;01mdef\u001b[39;00m \u001b[38;5;21m__init__\u001b[39m(\u001b[38;5;28mself\u001b[39m, module):\n\u001b[1;32m   1490\u001b[0m     \u001b[38;5;28mself\u001b[39m\u001b[38;5;241m.\u001b[39mloader \u001b[38;5;241m=\u001b[39m \u001b[38;5;28mgetattr\u001b[39m(module, \u001b[38;5;124m'\u001b[39m\u001b[38;5;124m__loader__\u001b[39m\u001b[38;5;124m'\u001b[39m, \u001b[38;5;28;01mNone\u001b[39;00m)\n\u001b[0;32m-> 1491\u001b[0m     \u001b[38;5;28mself\u001b[39m\u001b[38;5;241m.\u001b[39mmodule_path \u001b[38;5;241m=\u001b[39m os\u001b[38;5;241m.\u001b[39mpath\u001b[38;5;241m.\u001b[39mdirname(\u001b[38;5;28mgetattr\u001b[39m(module, \u001b[38;5;124m'\u001b[39m\u001b[38;5;124m__file__\u001b[39m\u001b[38;5;124m'\u001b[39m, \u001b[38;5;124m'\u001b[39m\u001b[38;5;124m'\u001b[39m))\n",
      "File \u001b[0;32m<frozen posixpath>:152\u001b[0m, in \u001b[0;36mdirname\u001b[0;34m(p)\u001b[0m\n",
      "\u001b[0;31mTypeError\u001b[0m: expected str, bytes or os.PathLike object, not NoneType"
     ]
    }
   ],
   "source": [
    "data_path = pkg_resources.resource_filename(\"FRAME\", \"data/\")"
   ]
  },
  {
   "cell_type": "markdown",
   "metadata": {},
   "source": [
    "Next we read the `plink` formatted genotype data and impute any missing SNPs with the mean at each SNP:"
   ]
  },
  {
   "cell_type": "code",
   "execution_count": 3,
   "metadata": {},
   "outputs": [
    {
     "name": "stderr",
     "output_type": "stream",
     "text": [
      "Mapping files: 100%|█████████████████████████████████████████████████████████████████████████████████████████| 3/3 [00:00<00:00, 45.28it/s]"
     ]
    },
    {
     "name": "stdout",
     "output_type": "stream",
     "text": [
      "n_samples=111, n_snps=17729\n"
     ]
    },
    {
     "name": "stderr",
     "output_type": "stream",
     "text": [
      "\n"
     ]
    }
   ],
   "source": [
    "# read the genotype data and mean impute missing data\n",
    "(bim, fam, G) = read_plink(\"{}/wolvesadmix\".format(data_path))\n",
    "imp = SimpleImputer(missing_values=np.nan, strategy=\"mean\")\n",
    "genotypes = imp.fit_transform((np.array(G)).T)\n",
    "\n",
    "print(\"n_samples={}, n_snps={}\".format(genotypes.shape[0], genotypes.shape[1]))"
   ]
  },
  {
   "cell_type": "markdown",
   "metadata": {},
   "source": [
    "As we can see we have 111 samples and 17,729 SNPs. For preparing the graph inputs to run `FRAME` you have two options:\n",
    "\n",
    "* Prepare your own input files\n",
    "* Use the `FRAME` function `prepare_graph_inputs` which intersects a discrete global grid (DGG) with the sample range\n",
    "\n",
    "We'll show off the later option. We read the sample coordinates, coordinates of the outer polygon that defines the habitat of the sample and a discrete global grid file which has laid down a triangular grid that is uniformly spaced on earth. We then intersect this global grid with the outer file to define the graph that we use to optimize:"
   ]
  },
  {
   "cell_type": "code",
   "execution_count": 5,
   "metadata": {
    "tags": []
   },
   "outputs": [
    {
     "ename": "NameError",
     "evalue": "name 'data_path' is not defined",
     "output_type": "error",
     "traceback": [
      "\u001b[0;31m---------------------------------------------------------------------------\u001b[0m",
      "\u001b[0;31mNameError\u001b[0m                                 Traceback (most recent call last)",
      "File \u001b[0;32m<timed exec>:2\u001b[0m\n",
      "\u001b[0;31mNameError\u001b[0m: name 'data_path' is not defined"
     ]
    }
   ],
   "source": [
    "%%time\n",
    "# setup graph\n",
    "coord = np.loadtxt(\"{}/wolvesadmix.coord\".format(data_path))  # sample coordinates\n",
    "outer = np.loadtxt(\"{}/wolvesadmix.outer\".format(data_path))  # outer coordinates\n",
    "grid_path = \"{}/grid250.shp\".format(data_path)  # path to discrete global grid\n",
    "\n",
    "# graph input files\n",
    "outer, edges, grid, _ = prepare_graph_inputs(coord=coord, \n",
    "                                             ggrid=grid_path,\n",
    "                                             translated=True, \n",
    "                                             buffer=0,\n",
    "                                             outer=outer)"
   ]
  },
  {
   "cell_type": "markdown",
   "metadata": {
    "jp-MarkdownHeadingCollapsed": true,
    "tags": []
   },
   "source": [
    "## Setup the `SpatialDiGraph` object"
   ]
  },
  {
   "cell_type": "markdown",
   "metadata": {},
   "source": [
    "We then setup the `SpatialDiGraph` object which is the core workhorse of `FRAME`. `SpatialDiGraph` specifies the graph, allele frequency data, and runs the optimizers to fit the edge weights of the digraph:"
   ]
  },
  {
   "cell_type": "code",
   "execution_count": 7,
   "metadata": {
    "tags": []
   },
   "outputs": [
    {
     "ename": "NameError",
     "evalue": "name 'SpatialDiGraph' is not defined",
     "output_type": "error",
     "traceback": [
      "\u001b[0;31m---------------------------------------------------------------------------\u001b[0m",
      "\u001b[0;31mNameError\u001b[0m                                 Traceback (most recent call last)",
      "File \u001b[0;32m<timed exec>:1\u001b[0m\n",
      "\u001b[0;31mNameError\u001b[0m: name 'SpatialDiGraph' is not defined"
     ]
    }
   ],
   "source": [
    "%%time\n",
    "sp_graph = SpatialDiGraph(genotypes, coord, grid, edges)"
   ]
  },
  {
   "cell_type": "markdown",
   "metadata": {},
   "source": [
    "This might take a few minutes to construct at first b/c it initializing a number of graph matrices that are slow to build. First, before any fitting we'll visualize the graph and samples. Lets setup the projection we'll be using for this dataset:"
   ]
  },
  {
   "cell_type": "code",
   "execution_count": 9,
   "metadata": {},
   "outputs": [],
   "source": [
    "projection = ccrs.EquidistantConic(central_longitude=-108.842926, central_latitude=66.037547)"
   ]
  },
  {
   "cell_type": "markdown",
   "metadata": {},
   "source": [
    "Now lets make a map of the sample coordinates, graph and observed nodes:"
   ]
  },
  {
   "cell_type": "code",
   "execution_count": 8,
   "metadata": {
    "tags": []
   },
   "outputs": [
    {
     "ename": "NameError",
     "evalue": "name 'projection' is not defined",
     "output_type": "error",
     "traceback": [
      "\u001b[0;31m---------------------------------------------------------------------------\u001b[0m",
      "\u001b[0;31mNameError\u001b[0m                                 Traceback (most recent call last)",
      "Cell \u001b[0;32mIn[8], line 2\u001b[0m\n\u001b[1;32m      1\u001b[0m fig \u001b[38;5;241m=\u001b[39m plt\u001b[38;5;241m.\u001b[39mfigure(dpi\u001b[38;5;241m=\u001b[39m\u001b[38;5;241m300\u001b[39m)\n\u001b[0;32m----> 2\u001b[0m ax \u001b[38;5;241m=\u001b[39m fig\u001b[38;5;241m.\u001b[39madd_subplot(\u001b[38;5;241m1\u001b[39m, \u001b[38;5;241m1\u001b[39m, \u001b[38;5;241m1\u001b[39m, projection\u001b[38;5;241m=\u001b[39mprojection)  \n\u001b[1;32m      3\u001b[0m v \u001b[38;5;241m=\u001b[39m Vis(ax, sp_digraph, projection\u001b[38;5;241m=\u001b[39mprojection, edge_width\u001b[38;5;241m=\u001b[39m\u001b[38;5;241m.5\u001b[39m, \n\u001b[1;32m      4\u001b[0m         edge_alpha\u001b[38;5;241m=\u001b[39m\u001b[38;5;241m1\u001b[39m, edge_zorder\u001b[38;5;241m=\u001b[39m\u001b[38;5;241m100\u001b[39m, sample_pt_size\u001b[38;5;241m=\u001b[39m\u001b[38;5;241m10\u001b[39m, \n\u001b[1;32m      5\u001b[0m         obs_node_size\u001b[38;5;241m=\u001b[39m\u001b[38;5;241m7.5\u001b[39m, sample_pt_color\u001b[38;5;241m=\u001b[39m\u001b[38;5;124m\"\u001b[39m\u001b[38;5;124mblack\u001b[39m\u001b[38;5;124m\"\u001b[39m, \n\u001b[1;32m      6\u001b[0m         cbar_font_size\u001b[38;5;241m=\u001b[39m\u001b[38;5;241m10\u001b[39m)\n\u001b[1;32m      7\u001b[0m v\u001b[38;5;241m.\u001b[39mdraw_map()\n",
      "\u001b[0;31mNameError\u001b[0m: name 'projection' is not defined"
     ]
    },
    {
     "data": {
      "text/plain": [
       "<Figure size 1920x1440 with 0 Axes>"
      ]
     },
     "metadata": {},
     "output_type": "display_data"
    }
   ],
   "source": [
    "fig = plt.figure(dpi=300)\n",
    "ax = fig.add_subplot(1, 1, 1, projection=projection)  \n",
    "v = Vis(ax, sp_digraph, projection=projection, edge_width=.5, \n",
    "        edge_alpha=1, edge_zorder=100, sample_pt_size=10, \n",
    "        obs_node_size=7.5, sample_pt_color=\"black\", \n",
    "        cbar_font_size=10)\n",
    "v.draw_map()\n",
    "v.draw_samples()\n",
    "v.draw_edges(use_weights=False)\n",
    "v.draw_obs_nodes(use_ids=False)"
   ]
  },
  {
   "cell_type": "markdown",
   "metadata": {
    "jp-MarkdownHeadingCollapsed": true,
    "tags": []
   },
   "source": [
    "## Run cross validation"
   ]
  },
  {
   "cell_type": "markdown",
   "metadata": {},
   "source": [
    "Next we perform 10-fold cross-validation over $\\lambda$ through a two-stage grid search. In our CV we hold out individual observed nodes on the digraph, predict allele frequencies at the held-out node under our fitted model, and use the $\\ell_2$ distance between the fitted and predicted allele frequencies as our CV metric to select models. We first do a rough search and determine the range of the fine grid search:"
   ]
  },
  {
   "cell_type": "code",
   "execution_count": 11,
   "metadata": {
    "tags": []
   },
   "outputs": [
    {
     "ename": "NameError",
     "evalue": "name 'np' is not defined",
     "output_type": "error",
     "traceback": [
      "\u001b[0;31m---------------------------------------------------------------------------\u001b[0m",
      "\u001b[0;31mNameError\u001b[0m                                 Traceback (most recent call last)",
      "Cell \u001b[0;32mIn[11], line 3\u001b[0m\n\u001b[1;32m      1\u001b[0m lamb_warmup \u001b[38;5;241m=\u001b[39m \u001b[38;5;241m1e3\u001b[39m\n\u001b[0;32m----> 3\u001b[0m lamb_grid \u001b[38;5;241m=\u001b[39m np\u001b[38;5;241m.\u001b[39mgeomspace(\u001b[38;5;241m1e-3\u001b[39m, \u001b[38;5;241m1e3\u001b[39m,\u001b[38;5;241m13\u001b[39m)[::\u001b[38;5;241m-\u001b[39m\u001b[38;5;241m1\u001b[39m]\n\u001b[1;32m      5\u001b[0m cv,node_train_idxs\u001b[38;5;241m=\u001b[39mrun_cv(sp_digraph,\n\u001b[1;32m      6\u001b[0m                           lamb_grid,\n\u001b[1;32m      7\u001b[0m                           lamb_warmup\u001b[38;5;241m=\u001b[39mlamb_warmup,\n\u001b[0;32m   (...)\u001b[0m\n\u001b[1;32m     11\u001b[0m                           outer_verbose\u001b[38;5;241m=\u001b[39m\u001b[38;5;28;01mTrue\u001b[39;00m,\n\u001b[1;32m     12\u001b[0m                           inner_verbose\u001b[38;5;241m=\u001b[39m\u001b[38;5;28;01mFalse\u001b[39;00m,)\n\u001b[1;32m     14\u001b[0m \u001b[38;5;28;01mif\u001b[39;00m np\u001b[38;5;241m.\u001b[39margmin(cv)\u001b[38;5;241m==\u001b[39m\u001b[38;5;241m0\u001b[39m:\n",
      "\u001b[0;31mNameError\u001b[0m: name 'np' is not defined"
     ]
    }
   ],
   "source": [
    "lamb_warmup = 1e3\n",
    "\n",
    "lamb_grid = np.geomspace(1e-3, 1e3,13)[::-1]\n",
    "\n",
    "cv,node_train_idxs=run_cv(sp_digraph,\n",
    "                          lamb_grid,\n",
    "                          lamb_warmup=lamb_warmup,\n",
    "                          n_folds=10,\n",
    "                          factr=1e10,\n",
    "                          random_state=500,\n",
    "                          outer_verbose=True,\n",
    "                          inner_verbose=False,)\n",
    "\n",
    "if np.argmin(cv)==0:\n",
    "   lamb_grid_fine=np.geomspace(lamb_grid[0],lamb_grid[1],5)[::-1]\n",
    "\n",
    "elif np.argmin(cv)==12:\n",
    "     lamb_grid_fine=np.geomspace(lamb_grid[11],lamb_grid[12], 5)[::-1]\n",
    "     \n",
    "else:\n",
    "    lamb_grid_fine=np.geomspace(lamb_grid[np.argmin(cv)-1],lamb_grid[np.argmin(cv)+1], 5)[::-1]"
   ]
  },
  {
   "cell_type": "markdown",
   "metadata": {},
   "source": [
    "We then do a fine grid search and pick the optimal $\\lambda$ value:"
   ]
  },
  {
   "cell_type": "code",
   "execution_count": 16,
   "metadata": {
    "tags": []
   },
   "outputs": [
    {
     "ename": "NameError",
     "evalue": "name 'run_cv' is not defined",
     "output_type": "error",
     "traceback": [
      "\u001b[0;31m---------------------------------------------------------------------------\u001b[0m",
      "\u001b[0;31mNameError\u001b[0m                                 Traceback (most recent call last)",
      "Cell \u001b[0;32mIn[16], line 1\u001b[0m\n\u001b[0;32m----> 1\u001b[0m cv_fine,node_train_idxs_fine\u001b[38;5;241m=\u001b[39mrun_cv(sp_digraph,\n\u001b[1;32m      2\u001b[0m                                     lamb_grid_fine,\n\u001b[1;32m      3\u001b[0m                                     lamb_warmup\u001b[38;5;241m=\u001b[39mlamb_warmup,\n\u001b[1;32m      4\u001b[0m                                     n_folds\u001b[38;5;241m=\u001b[39m\u001b[38;5;241m10\u001b[39m,\n\u001b[1;32m      5\u001b[0m                                     factr\u001b[38;5;241m=\u001b[39m\u001b[38;5;241m1e10\u001b[39m,\n\u001b[1;32m      6\u001b[0m                                     random_state\u001b[38;5;241m=\u001b[39m\u001b[38;5;241m500\u001b[39m,\n\u001b[1;32m      7\u001b[0m                                     outer_verbose\u001b[38;5;241m=\u001b[39m\u001b[38;5;28;01mTrue\u001b[39;00m,\n\u001b[1;32m      8\u001b[0m                                     inner_verbose\u001b[38;5;241m=\u001b[39m\u001b[38;5;28;01mFalse\u001b[39;00m,\n\u001b[1;32m      9\u001b[0m                                     node_train_idxs\u001b[38;5;241m=\u001b[39mnode_train_idxs)\n\u001b[1;32m     11\u001b[0m lamb_opt\u001b[38;5;241m=\u001b[39mlamb_grid_fine[np\u001b[38;5;241m.\u001b[39margmin(cv_fine)]\n\u001b[1;32m     12\u001b[0m lamb_opt\u001b[38;5;241m=\u001b[39m\u001b[38;5;28mfloat\u001b[39m(\u001b[38;5;124m\"\u001b[39m\u001b[38;5;132;01m{:.3g}\u001b[39;00m\u001b[38;5;124m\"\u001b[39m\u001b[38;5;241m.\u001b[39mformat(lamb_opt))\n",
      "\u001b[0;31mNameError\u001b[0m: name 'run_cv' is not defined"
     ]
    }
   ],
   "source": [
    "cv_fine,node_train_idxs_fine=run_cv(sp_digraph,\n",
    "                                    lamb_grid_fine,\n",
    "                                    lamb_warmup=lamb_warmup,\n",
    "                                    n_folds=10,\n",
    "                                    factr=1e10,\n",
    "                                    random_state=500,\n",
    "                                    outer_verbose=True,\n",
    "                                    inner_verbose=False,\n",
    "                                    node_train_idxs=node_train_idxs)\n",
    "\n",
    "lamb_opt=lamb_grid_fine[np.argmin(cv_fine)]\n",
    "lamb_opt=float(\"{:.3g}\".format(lamb_opt))"
   ]
  },
  {
   "cell_type": "markdown",
   "metadata": {
    "tags": []
   },
   "source": [
    "The CV error can be ploted as following:"
   ]
  },
  {
   "cell_type": "code",
   "execution_count": 19,
   "metadata": {
    "tags": []
   },
   "outputs": [
    {
     "ename": "NameError",
     "evalue": "name 'plt' is not defined",
     "output_type": "error",
     "traceback": [
      "\u001b[0;31m---------------------------------------------------------------------------\u001b[0m",
      "\u001b[0;31mNameError\u001b[0m                                 Traceback (most recent call last)",
      "Cell \u001b[0;32mIn[19], line 1\u001b[0m\n\u001b[0;32m----> 1\u001b[0m plt\u001b[38;5;241m.\u001b[39mfigure(figsize\u001b[38;5;241m=\u001b[39m(\u001b[38;5;241m8\u001b[39m, \u001b[38;5;241m6\u001b[39m))\n\u001b[1;32m      2\u001b[0m plt\u001b[38;5;241m.\u001b[39mplot(np\u001b[38;5;241m.\u001b[39mlog10(lamb_grid), cv, \u001b[38;5;124m'\u001b[39m\u001b[38;5;124mbo\u001b[39m\u001b[38;5;124m'\u001b[39m)  \n\u001b[1;32m      3\u001b[0m plt\u001b[38;5;241m.\u001b[39mplot(np\u001b[38;5;241m.\u001b[39mlog10(lamb_grid_fine), cv_fine, \u001b[38;5;124m'\u001b[39m\u001b[38;5;124mbo\u001b[39m\u001b[38;5;124m'\u001b[39m)  \n",
      "\u001b[0;31mNameError\u001b[0m: name 'plt' is not defined"
     ]
    }
   ],
   "source": [
    "plt.figure(figsize=(8, 6))\n",
    "plt.plot(np.log10(lamb_grid), cv, 'bo')  \n",
    "plt.plot(np.log10(lamb_grid_fine), cv_fine, 'bo')  \n",
    "plt.xlabel(r\"$\\mathrm{log}_{10}(\\mathrm{\\lambda})$\")\n",
    "plt.ylabel('CV Error')"
   ]
  },
  {
   "cell_type": "markdown",
   "metadata": {
    "jp-MarkdownHeadingCollapsed": true,
    "tags": []
   },
   "source": [
    "## Fit `FRAME`"
   ]
  },
  {
   "cell_type": "markdown",
   "metadata": {},
   "source": [
    "Next we fit the `FRAME` model with the optimal $\\lambda$. To be consistent with the cross validation step, we use the warm up fitting as the intial value and then fit with stricter converging criteria: "
   ]
  },
  {
   "cell_type": "code",
   "execution_count": 17,
   "metadata": {
    "tags": []
   },
   "outputs": [
    {
     "ename": "NameError",
     "evalue": "name 'sp_digraph' is not defined",
     "output_type": "error",
     "traceback": [
      "\u001b[0;31m---------------------------------------------------------------------------\u001b[0m",
      "\u001b[0;31mNameError\u001b[0m                                 Traceback (most recent call last)",
      "File \u001b[0;32m<timed exec>:1\u001b[0m\n",
      "\u001b[0;31mNameError\u001b[0m: name 'sp_digraph' is not defined"
     ]
    }
   ],
   "source": [
    "%%time\n",
    "sp_digraph.fit(lamb=lamb_warmup, factr=1e10)\n",
    "logm = np.log(sp_digraph.m)\n",
    "logc = np.log(sp_digraph.c)\n",
    "\n",
    "sp_digraph.fit(lamb=lamb_opt,\n",
    "               factr=1e7,\n",
    "               logm_init=logm,\n",
    "               logc_init=logc,\n",
    "               )"
   ]
  },
  {
   "cell_type": "markdown",
   "metadata": {
    "jp-MarkdownHeadingCollapsed": true,
    "tags": []
   },
   "source": [
    "## Visualize the results"
   ]
  },
  {
   "cell_type": "markdown",
   "metadata": {},
   "source": [
    "Now we can visualize the results:"
   ]
  },
  {
   "cell_type": "code",
   "execution_count": 20,
   "metadata": {
    "tags": []
   },
   "outputs": [
    {
     "ename": "NameError",
     "evalue": "name 'plt' is not defined",
     "output_type": "error",
     "traceback": [
      "\u001b[0;31m---------------------------------------------------------------------------\u001b[0m",
      "\u001b[0;31mNameError\u001b[0m                                 Traceback (most recent call last)",
      "Cell \u001b[0;32mIn[20], line 1\u001b[0m\n\u001b[0;32m----> 1\u001b[0m fig, axs\u001b[38;5;241m=\u001b[39m plt\u001b[38;5;241m.\u001b[39msubplots(\u001b[38;5;241m2\u001b[39m, \u001b[38;5;241m4\u001b[39m, figsize\u001b[38;5;241m=\u001b[39m(\u001b[38;5;241m15\u001b[39m, \u001b[38;5;241m6\u001b[39m), dpi\u001b[38;5;241m=\u001b[39m\u001b[38;5;241m300\u001b[39m,\n\u001b[1;32m      2\u001b[0m                         subplot_kw\u001b[38;5;241m=\u001b[39m{\u001b[38;5;124m'\u001b[39m\u001b[38;5;124mprojection\u001b[39m\u001b[38;5;124m'\u001b[39m: projection})\n\u001b[1;32m      4\u001b[0m v \u001b[38;5;241m=\u001b[39m Vis(axs[\u001b[38;5;241m0\u001b[39m,\u001b[38;5;241m0\u001b[39m], sp_digraph, projection\u001b[38;5;241m=\u001b[39mprojection, edge_width\u001b[38;5;241m=\u001b[39m\u001b[38;5;241m0.5\u001b[39m,\n\u001b[1;32m      5\u001b[0m         edge_alpha\u001b[38;5;241m=\u001b[39m\u001b[38;5;241m1\u001b[39m, edge_zorder\u001b[38;5;241m=\u001b[39m\u001b[38;5;241m100\u001b[39m, sample_pt_size\u001b[38;5;241m=\u001b[39m\u001b[38;5;241m20\u001b[39m,\n\u001b[1;32m      6\u001b[0m         obs_node_size\u001b[38;5;241m=\u001b[39m\u001b[38;5;241m5\u001b[39m, sample_pt_color\u001b[38;5;241m=\u001b[39m\u001b[38;5;124m\"\u001b[39m\u001b[38;5;124mblack\u001b[39m\u001b[38;5;124m\"\u001b[39m,\n\u001b[1;32m      7\u001b[0m         cbar_font_size\u001b[38;5;241m=\u001b[39m\u001b[38;5;241m10\u001b[39m, cbar_ticklabelsize\u001b[38;5;241m=\u001b[39m\u001b[38;5;241m8\u001b[39m, mutation_scale\u001b[38;5;241m=\u001b[39m\u001b[38;5;241m3\u001b[39m)\n\u001b[1;32m      9\u001b[0m v\u001b[38;5;241m.\u001b[39mdigraph_wrapper(axs, node_scale\u001b[38;5;241m=\u001b[39m[\u001b[38;5;241m5\u001b[39m, \u001b[38;5;241m5\u001b[39m, \u001b[38;5;241m5\u001b[39m])\n",
      "\u001b[0;31mNameError\u001b[0m: name 'plt' is not defined"
     ]
    }
   ],
   "source": [
    "fig, axs= plt.subplots(2, 4, figsize=(15, 6), dpi=300,\n",
    "                        subplot_kw={'projection': projection})\n",
    "\n",
    "v = Vis(axs[0,0], sp_digraph, projection=projection, edge_width=0.5,\n",
    "        edge_alpha=1, edge_zorder=100, sample_pt_size=20,\n",
    "        obs_node_size=5, sample_pt_color=\"black\",\n",
    "        cbar_font_size=10, cbar_ticklabelsize=8, mutation_scale=3)\n",
    "\n",
    "v.digraph_wrapper(axs, node_scale=[5, 5, 5])"
   ]
  },
  {
   "cell_type": "markdown",
   "metadata": {},
   "source": [
    "The `digraph_wrapper` function shows all the representations and attributes in a single figure. If we want to draw them seperately, we can use `draw_migration_rates` function and `draw_attributes` function, with a specification of the graph mode (`Base`, `Full`, `Difference`, `Summary`) and attributes (`Sample Size and Position`, `Heterozygosity`,`Stationary Distribution`,`Coalescent Rate`). For example, we can show the difference graph and coalescent rate through:"
   ]
  },
  {
   "cell_type": "code",
   "execution_count": 1,
   "metadata": {
    "tags": []
   },
   "outputs": [
    {
     "ename": "NameError",
     "evalue": "name 'fig' is not defined",
     "output_type": "error",
     "traceback": [
      "\u001b[0;31m---------------------------------------------------------------------------\u001b[0m",
      "\u001b[0;31mNameError\u001b[0m                                 Traceback (most recent call last)",
      "Cell \u001b[0;32mIn[1], line 1\u001b[0m\n\u001b[0;32m----> 1\u001b[0m ax\u001b[38;5;241m=\u001b[39m fig\u001b[38;5;241m.\u001b[39madd_subplot(\u001b[38;5;241m1\u001b[39m, \u001b[38;5;241m1\u001b[39m, \u001b[38;5;241m1\u001b[39m, projection\u001b[38;5;241m=\u001b[39mprojection)\n\u001b[1;32m      2\u001b[0m v\u001b[38;5;241m.\u001b[39mdraw_migration_rates(ax,\n\u001b[1;32m      3\u001b[0m                        mode\u001b[38;5;241m=\u001b[39m\u001b[38;5;124m'\u001b[39m\u001b[38;5;124mDifference\u001b[39m\u001b[38;5;124m'\u001b[39m,\n\u001b[1;32m      4\u001b[0m                        draw_map\u001b[38;5;241m=\u001b[39m\u001b[38;5;28;01mTrue\u001b[39;00m,\n\u001b[1;32m      5\u001b[0m                        draw_nodes\u001b[38;5;241m=\u001b[39m\u001b[38;5;28;01mTrue\u001b[39;00m,)\n\u001b[1;32m      7\u001b[0m ax\u001b[38;5;241m=\u001b[39m fig\u001b[38;5;241m.\u001b[39madd_subplot(\u001b[38;5;241m1\u001b[39m, \u001b[38;5;241m1\u001b[39m, \u001b[38;5;241m1\u001b[39m, projection\u001b[38;5;241m=\u001b[39mprojection) \n",
      "\u001b[0;31mNameError\u001b[0m: name 'fig' is not defined"
     ]
    }
   ],
   "source": [
    "ax= fig.add_subplot(1, 1, 1, projection=projection)\n",
    "v.draw_migration_rates(ax,\n",
    "                       mode='Difference',\n",
    "                       draw_map=True,\n",
    "                       draw_nodes=True,)\n",
    "\n",
    "ax= fig.add_subplot(1, 1, 1, projection=projection) \n",
    "v.draw_attributes(ax,\n",
    "                  node_scale=5,\n",
    "                  attribute='Coalescent Rate',\n",
    "                  draw_map=True,)"
   ]
  },
  {
   "cell_type": "markdown",
   "metadata": {},
   "source": [
    "We can also compare the fitted genetic distances and the observed genetic distances:"
   ]
  },
  {
   "cell_type": "code",
   "execution_count": 2,
   "metadata": {
    "tags": []
   },
   "outputs": [
    {
     "ename": "NameError",
     "evalue": "name 'Digraphstats' is not defined",
     "output_type": "error",
     "traceback": [
      "\u001b[0;31m---------------------------------------------------------------------------\u001b[0m",
      "\u001b[0;31mNameError\u001b[0m                                 Traceback (most recent call last)",
      "Cell \u001b[0;32mIn[2], line 1\u001b[0m\n\u001b[0;32m----> 1\u001b[0m digraphstats \u001b[38;5;241m=\u001b[39m Digraphstats(sp_digraph)\n\u001b[1;32m      3\u001b[0m fig, axs \u001b[38;5;241m=\u001b[39m plt\u001b[38;5;241m.\u001b[39msubplots(\u001b[38;5;241m1\u001b[39m, \u001b[38;5;241m3\u001b[39m, figsize\u001b[38;5;241m=\u001b[39m(\u001b[38;5;241m18\u001b[39m, \u001b[38;5;241m5\u001b[39m), dpi\u001b[38;5;241m=\u001b[39m\u001b[38;5;241m300\u001b[39m)\n\u001b[1;32m      4\u001b[0m digraphstats\u001b[38;5;241m.\u001b[39mfitting_wrapper(axs)\n",
      "\u001b[0;31mNameError\u001b[0m: name 'Digraphstats' is not defined"
     ]
    }
   ],
   "source": [
    "digraphstats = Digraphstats(sp_digraph)\n",
    "\n",
    "fig, axs = plt.subplots(1, 3, figsize=(18, 5), dpi=300)\n",
    "digraphstats.fitting_wrapper(axs)\n",
    "plt.show()"
   ]
  },
  {
   "cell_type": "markdown",
   "metadata": {},
   "source": [
    "The fitting_wrapper function combines the regression of distances, z-score distribution and the heatmap, which can also be drawn seperately:"
   ]
  },
  {
   "cell_type": "code",
   "execution_count": 3,
   "metadata": {
    "tags": []
   },
   "outputs": [
    {
     "ename": "NameError",
     "evalue": "name 'plt' is not defined",
     "output_type": "error",
     "traceback": [
      "\u001b[0;31m---------------------------------------------------------------------------\u001b[0m",
      "\u001b[0;31mNameError\u001b[0m                                 Traceback (most recent call last)",
      "Cell \u001b[0;32mIn[3], line 1\u001b[0m\n\u001b[0;32m----> 1\u001b[0m fig, ax \u001b[38;5;241m=\u001b[39m plt\u001b[38;5;241m.\u001b[39msubplots(\u001b[38;5;241m1\u001b[39m, \u001b[38;5;241m1\u001b[39m, figsize\u001b[38;5;241m=\u001b[39m(\u001b[38;5;241m6\u001b[39m, \u001b[38;5;241m5\u001b[39m), dpi\u001b[38;5;241m=\u001b[39m\u001b[38;5;241m300\u001b[39m)\n\u001b[1;32m      2\u001b[0m digraphstats\u001b[38;5;241m.\u001b[39mdistance_regression(ax)\n\u001b[1;32m      4\u001b[0m fig, ax \u001b[38;5;241m=\u001b[39m plt\u001b[38;5;241m.\u001b[39msubplots(\u001b[38;5;241m1\u001b[39m, \u001b[38;5;241m1\u001b[39m, figsize\u001b[38;5;241m=\u001b[39m(\u001b[38;5;241m6\u001b[39m, \u001b[38;5;241m5\u001b[39m), dpi\u001b[38;5;241m=\u001b[39m\u001b[38;5;241m300\u001b[39m)\n",
      "\u001b[0;31mNameError\u001b[0m: name 'plt' is not defined"
     ]
    }
   ],
   "source": [
    "fig, ax = plt.subplots(1, 1, figsize=(6, 5), dpi=300)\n",
    "digraphstats.distance_regression(ax)\n",
    " \n",
    "fig, ax = plt.subplots(1, 1, figsize=(6, 5), dpi=300)\n",
    "digraphstats.z_score_distribution(ax)\n",
    "        \n",
    "fig, ax = plt.subplots(1, 1, figsize=(6, 5), dpi=300)   \n",
    "digraphstats.draw_heatmap(ax)"
   ]
  },
  {
   "cell_type": "markdown",
   "metadata": {},
   "source": [
    "## Detect Outliers"
   ]
  },
  {
   "cell_type": "markdown",
   "metadata": {},
   "source": [
    "Great ... now we finish our first `FRAME` analysis! We essentially provided these results interactively! For more interpretation of these  figures and method please see our pre-print :)"
   ]
  }
 ],
 "metadata": {
  "kernelspec": {
   "display_name": "Python 3 (ipykernel)",
   "language": "python",
   "name": "python3"
  },
  "language_info": {
   "codemirror_mode": {
    "name": "ipython",
    "version": 3
   },
   "file_extension": ".py",
   "mimetype": "text/x-python",
   "name": "python",
   "nbconvert_exporter": "python",
   "pygments_lexer": "ipython3",
   "version": "3.11.7"
  }
 },
 "nbformat": 4,
 "nbformat_minor": 4
}
